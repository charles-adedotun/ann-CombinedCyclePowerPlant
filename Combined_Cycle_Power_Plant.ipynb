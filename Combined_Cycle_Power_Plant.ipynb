{
  "nbformat": 4,
  "nbformat_minor": 0,
  "metadata": {
    "colab": {
      "name": "Combined Cycle Power Plant",
      "provenance": [],
      "collapsed_sections": [],
      "toc_visible": true
    },
    "kernelspec": {
      "name": "python3",
      "display_name": "Python 3"
    }
  },
  "cells": [
    {
      "cell_type": "markdown",
      "metadata": {
        "id": "3cbb7fRy-eyr"
      },
      "source": [
        "# Artificial Neural Network"
      ]
    },
    {
      "cell_type": "markdown",
      "metadata": {
        "id": "8sNDnxE2-pwE"
      },
      "source": [
        "### Importing the libraries"
      ]
    },
    {
      "cell_type": "code",
      "metadata": {
        "id": "lxChR1Rk-umf"
      },
      "source": [
        "import numpy as np\n",
        "import pandas as pd\n",
        "import tensorflow as tf"
      ],
      "execution_count": 1,
      "outputs": []
    },
    {
      "cell_type": "markdown",
      "metadata": {
        "id": "AG3FQEch-yuA"
      },
      "source": [
        "## Part 1 - Data Preprocessing"
      ]
    },
    {
      "cell_type": "markdown",
      "metadata": {
        "id": "-4zq8Mza_D9O"
      },
      "source": [
        "### Importing the dataset"
      ]
    },
    {
      "cell_type": "code",
      "metadata": {
        "id": "KdqrBuMOSMKZ"
      },
      "source": [
        "dataset = pd.read_excel('Folds5x2_pp.xlsx')\n",
        "X = dataset.iloc[:, :-1].values\n",
        "y = dataset.iloc[:, -1].values"
      ],
      "execution_count": 2,
      "outputs": []
    },
    {
      "cell_type": "code",
      "metadata": {
        "id": "asxjoSbIYMFm"
      },
      "source": [
        "# from sklearn.preprocessing import StandardScaler\n",
        "# sc = StandardScaler()\n",
        "# X = sc.fit_transform(X)"
      ],
      "execution_count": 3,
      "outputs": []
    },
    {
      "cell_type": "markdown",
      "metadata": {
        "id": "VC6omXel_Up0"
      },
      "source": [
        "### Splitting the dataset into the Training set and Test set"
      ]
    },
    {
      "cell_type": "code",
      "metadata": {
        "id": "NIi0djnNYDTH"
      },
      "source": [
        "from sklearn.model_selection import train_test_split\n",
        "X_train, X_test, y_train, y_test = train_test_split(X, y, test_size = 0.2, random_state = 0)"
      ],
      "execution_count": 4,
      "outputs": []
    },
    {
      "cell_type": "markdown",
      "metadata": {
        "id": "_mSLlAT9_eyI"
      },
      "source": [
        "## Part 2 - Building the ANN"
      ]
    },
    {
      "cell_type": "markdown",
      "metadata": {
        "id": "CsBULd_f_wLY"
      },
      "source": [
        "### Initializing the ANN"
      ]
    },
    {
      "cell_type": "code",
      "metadata": {
        "id": "mCEn4PHpYzJR"
      },
      "source": [
        "ann = tf.keras.models.Sequential()"
      ],
      "execution_count": 5,
      "outputs": []
    },
    {
      "cell_type": "markdown",
      "metadata": {
        "id": "iitAFJS_ABUn"
      },
      "source": [
        "### Adding the input layer and the first hidden layer"
      ]
    },
    {
      "cell_type": "code",
      "metadata": {
        "id": "8QVORRRiY6SX"
      },
      "source": [
        "ann.add(tf.keras.layers.Dense(units=6, activation='relu'))"
      ],
      "execution_count": 6,
      "outputs": []
    },
    {
      "cell_type": "markdown",
      "metadata": {
        "id": "-lb4kK_wAKbs"
      },
      "source": [
        "### Adding the second hidden layer"
      ]
    },
    {
      "cell_type": "code",
      "metadata": {
        "id": "o89v3JJHY9XW"
      },
      "source": [
        "ann.add(tf.keras.layers.Dense(units=6, activation='relu'))"
      ],
      "execution_count": 7,
      "outputs": []
    },
    {
      "cell_type": "markdown",
      "metadata": {
        "id": "jwMOmKb3AdBY"
      },
      "source": [
        "### Adding the output layer"
      ]
    },
    {
      "cell_type": "code",
      "metadata": {
        "id": "SyTzGrGCY-pK"
      },
      "source": [
        "ann.add(tf.keras.layers.Dense(units=1))"
      ],
      "execution_count": 8,
      "outputs": []
    },
    {
      "cell_type": "markdown",
      "metadata": {
        "id": "fq7e4fF6A1yy"
      },
      "source": [
        "## Part 3 - Training the ANN"
      ]
    },
    {
      "cell_type": "markdown",
      "metadata": {
        "id": "qDeylAs2An25"
      },
      "source": [
        "### Compiling the ANN"
      ]
    },
    {
      "cell_type": "code",
      "metadata": {
        "id": "eYHH4pQGeoBG"
      },
      "source": [
        "ann.compile(optimizer='adam', loss='mean_squared_error')"
      ],
      "execution_count": 9,
      "outputs": []
    },
    {
      "cell_type": "markdown",
      "metadata": {
        "id": "YjVuiybYOo7r"
      },
      "source": [
        "### Training the ANN model on the Training set"
      ]
    },
    {
      "cell_type": "code",
      "metadata": {
        "id": "4T1PWxjthQ-4",
        "outputId": "714f0f52-acc1-4347-8f59-29a7009d634c",
        "colab": {
          "base_uri": "https://localhost:8080/",
          "height": 1000
        }
      },
      "source": [
        "ann.fit(X_train, y_train, batch_size=32, epochs=100)"
      ],
      "execution_count": 10,
      "outputs": [
        {
          "output_type": "stream",
          "text": [
            "Epoch 1/100\n",
            "240/240 [==============================] - 0s 522us/step - loss: 83003.3906\n",
            "Epoch 2/100\n",
            "240/240 [==============================] - 0s 495us/step - loss: 792.5294\n",
            "Epoch 3/100\n",
            "240/240 [==============================] - 0s 522us/step - loss: 748.5334\n",
            "Epoch 4/100\n",
            "240/240 [==============================] - 0s 502us/step - loss: 704.3061\n",
            "Epoch 5/100\n",
            "240/240 [==============================] - 0s 567us/step - loss: 654.8403\n",
            "Epoch 6/100\n",
            "240/240 [==============================] - 0s 501us/step - loss: 599.9371\n",
            "Epoch 7/100\n",
            "240/240 [==============================] - 0s 516us/step - loss: 543.1876\n",
            "Epoch 8/100\n",
            "240/240 [==============================] - 0s 501us/step - loss: 485.8109\n",
            "Epoch 9/100\n",
            "240/240 [==============================] - 0s 532us/step - loss: 426.4677\n",
            "Epoch 10/100\n",
            "240/240 [==============================] - 0s 517us/step - loss: 370.4210\n",
            "Epoch 11/100\n",
            "240/240 [==============================] - 0s 496us/step - loss: 315.7437\n",
            "Epoch 12/100\n",
            "240/240 [==============================] - 0s 490us/step - loss: 264.1844\n",
            "Epoch 13/100\n",
            "240/240 [==============================] - 0s 498us/step - loss: 216.0526\n",
            "Epoch 14/100\n",
            "240/240 [==============================] - 0s 506us/step - loss: 173.5403\n",
            "Epoch 15/100\n",
            "240/240 [==============================] - 0s 530us/step - loss: 136.3632\n",
            "Epoch 16/100\n",
            "240/240 [==============================] - 0s 504us/step - loss: 104.5926\n",
            "Epoch 17/100\n",
            "240/240 [==============================] - 0s 493us/step - loss: 79.6289\n",
            "Epoch 18/100\n",
            "240/240 [==============================] - 0s 503us/step - loss: 60.2492\n",
            "Epoch 19/100\n",
            "240/240 [==============================] - 0s 536us/step - loss: 46.4588\n",
            "Epoch 20/100\n",
            "240/240 [==============================] - 0s 514us/step - loss: 37.5294\n",
            "Epoch 21/100\n",
            "240/240 [==============================] - 0s 524us/step - loss: 32.0271\n",
            "Epoch 22/100\n",
            "240/240 [==============================] - 0s 505us/step - loss: 28.8846\n",
            "Epoch 23/100\n",
            "240/240 [==============================] - 0s 509us/step - loss: 27.5013\n",
            "Epoch 24/100\n",
            "240/240 [==============================] - 0s 509us/step - loss: 27.0472\n",
            "Epoch 25/100\n",
            "240/240 [==============================] - 0s 496us/step - loss: 26.5978\n",
            "Epoch 26/100\n",
            "240/240 [==============================] - 0s 550us/step - loss: 26.6652\n",
            "Epoch 27/100\n",
            "240/240 [==============================] - 0s 505us/step - loss: 26.4804\n",
            "Epoch 28/100\n",
            "240/240 [==============================] - 0s 507us/step - loss: 26.8457\n",
            "Epoch 29/100\n",
            "240/240 [==============================] - 0s 499us/step - loss: 27.1729\n",
            "Epoch 30/100\n",
            "240/240 [==============================] - 0s 499us/step - loss: 26.6351\n",
            "Epoch 31/100\n",
            "240/240 [==============================] - 0s 546us/step - loss: 26.7577\n",
            "Epoch 32/100\n",
            "240/240 [==============================] - 0s 506us/step - loss: 27.0880\n",
            "Epoch 33/100\n",
            "240/240 [==============================] - 0s 499us/step - loss: 27.1267\n",
            "Epoch 34/100\n",
            "240/240 [==============================] - 0s 503us/step - loss: 27.0908\n",
            "Epoch 35/100\n",
            "240/240 [==============================] - 0s 514us/step - loss: 26.4198\n",
            "Epoch 36/100\n",
            "240/240 [==============================] - 0s 510us/step - loss: 26.5460\n",
            "Epoch 37/100\n",
            "240/240 [==============================] - 0s 501us/step - loss: 26.6679\n",
            "Epoch 38/100\n",
            "240/240 [==============================] - 0s 504us/step - loss: 27.0011\n",
            "Epoch 39/100\n",
            "240/240 [==============================] - 0s 504us/step - loss: 26.8100\n",
            "Epoch 40/100\n",
            "240/240 [==============================] - 0s 494us/step - loss: 26.6922\n",
            "Epoch 41/100\n",
            "240/240 [==============================] - 0s 502us/step - loss: 26.7152\n",
            "Epoch 42/100\n",
            "240/240 [==============================] - 0s 505us/step - loss: 26.6732\n",
            "Epoch 43/100\n",
            "240/240 [==============================] - 0s 514us/step - loss: 27.0209\n",
            "Epoch 44/100\n",
            "240/240 [==============================] - 0s 486us/step - loss: 26.4732\n",
            "Epoch 45/100\n",
            "240/240 [==============================] - 0s 493us/step - loss: 27.5993\n",
            "Epoch 46/100\n",
            "240/240 [==============================] - 0s 510us/step - loss: 26.5243\n",
            "Epoch 47/100\n",
            "240/240 [==============================] - 0s 515us/step - loss: 26.7051\n",
            "Epoch 48/100\n",
            "240/240 [==============================] - 0s 512us/step - loss: 26.7790\n",
            "Epoch 49/100\n",
            "240/240 [==============================] - 0s 500us/step - loss: 26.6268\n",
            "Epoch 50/100\n",
            "240/240 [==============================] - 0s 495us/step - loss: 26.6583\n",
            "Epoch 51/100\n",
            "240/240 [==============================] - 0s 482us/step - loss: 26.8670\n",
            "Epoch 52/100\n",
            "240/240 [==============================] - 0s 500us/step - loss: 26.5671\n",
            "Epoch 53/100\n",
            "240/240 [==============================] - 0s 500us/step - loss: 26.7433\n",
            "Epoch 54/100\n",
            "240/240 [==============================] - 0s 497us/step - loss: 27.3383\n",
            "Epoch 55/100\n",
            "240/240 [==============================] - 0s 497us/step - loss: 27.0309\n",
            "Epoch 56/100\n",
            "240/240 [==============================] - 0s 509us/step - loss: 26.6375\n",
            "Epoch 57/100\n",
            "240/240 [==============================] - 0s 488us/step - loss: 27.0888\n",
            "Epoch 58/100\n",
            "240/240 [==============================] - 0s 499us/step - loss: 26.8803\n",
            "Epoch 59/100\n",
            "240/240 [==============================] - 0s 540us/step - loss: 26.7810\n",
            "Epoch 60/100\n",
            "240/240 [==============================] - 0s 499us/step - loss: 26.3302\n",
            "Epoch 61/100\n",
            "240/240 [==============================] - 0s 511us/step - loss: 26.5913\n",
            "Epoch 62/100\n",
            "240/240 [==============================] - 0s 501us/step - loss: 27.1302\n",
            "Epoch 63/100\n",
            "240/240 [==============================] - 0s 500us/step - loss: 26.8659\n",
            "Epoch 64/100\n",
            "240/240 [==============================] - 0s 513us/step - loss: 26.7260\n",
            "Epoch 65/100\n",
            "240/240 [==============================] - 0s 500us/step - loss: 26.5521\n",
            "Epoch 66/100\n",
            "240/240 [==============================] - 0s 511us/step - loss: 27.0429\n",
            "Epoch 67/100\n",
            "240/240 [==============================] - 0s 499us/step - loss: 26.6050\n",
            "Epoch 68/100\n",
            "240/240 [==============================] - 0s 507us/step - loss: 26.8199\n",
            "Epoch 69/100\n",
            "240/240 [==============================] - 0s 542us/step - loss: 27.3092\n",
            "Epoch 70/100\n",
            "240/240 [==============================] - 0s 551us/step - loss: 26.4692\n",
            "Epoch 71/100\n",
            "240/240 [==============================] - 0s 522us/step - loss: 26.7209\n",
            "Epoch 72/100\n",
            "240/240 [==============================] - 0s 560us/step - loss: 26.5230\n",
            "Epoch 73/100\n",
            "240/240 [==============================] - 0s 544us/step - loss: 26.7382\n",
            "Epoch 74/100\n",
            "240/240 [==============================] - 0s 542us/step - loss: 27.6946\n",
            "Epoch 75/100\n",
            "240/240 [==============================] - 0s 558us/step - loss: 26.6175\n",
            "Epoch 76/100\n",
            "240/240 [==============================] - 0s 563us/step - loss: 26.9307\n",
            "Epoch 77/100\n",
            "240/240 [==============================] - 0s 599us/step - loss: 27.2504\n",
            "Epoch 78/100\n",
            "240/240 [==============================] - 0s 558us/step - loss: 26.6875\n",
            "Epoch 79/100\n",
            "240/240 [==============================] - 0s 603us/step - loss: 26.5104\n",
            "Epoch 80/100\n",
            "240/240 [==============================] - 0s 572us/step - loss: 26.7316\n",
            "Epoch 81/100\n",
            "240/240 [==============================] - 0s 541us/step - loss: 26.9162\n",
            "Epoch 82/100\n",
            "240/240 [==============================] - 0s 549us/step - loss: 26.8658\n",
            "Epoch 83/100\n",
            "240/240 [==============================] - 0s 581us/step - loss: 26.6931\n",
            "Epoch 84/100\n",
            "240/240 [==============================] - 0s 544us/step - loss: 26.6083\n",
            "Epoch 85/100\n",
            "240/240 [==============================] - 0s 596us/step - loss: 26.7259\n",
            "Epoch 86/100\n",
            "240/240 [==============================] - 0s 577us/step - loss: 27.1072\n",
            "Epoch 87/100\n",
            "240/240 [==============================] - 0s 559us/step - loss: 27.2371\n",
            "Epoch 88/100\n",
            "240/240 [==============================] - 0s 548us/step - loss: 27.1048\n",
            "Epoch 89/100\n",
            "240/240 [==============================] - 0s 555us/step - loss: 26.6041\n",
            "Epoch 90/100\n",
            "240/240 [==============================] - 0s 551us/step - loss: 26.9083\n",
            "Epoch 91/100\n",
            "240/240 [==============================] - 0s 578us/step - loss: 27.0241\n",
            "Epoch 92/100\n",
            "240/240 [==============================] - 0s 573us/step - loss: 26.6017\n",
            "Epoch 93/100\n",
            "240/240 [==============================] - 0s 539us/step - loss: 26.7570\n",
            "Epoch 94/100\n",
            "240/240 [==============================] - 0s 553us/step - loss: 26.5502\n",
            "Epoch 95/100\n",
            "240/240 [==============================] - 0s 541us/step - loss: 26.7672\n",
            "Epoch 96/100\n",
            "240/240 [==============================] - 0s 537us/step - loss: 26.5099\n",
            "Epoch 97/100\n",
            "240/240 [==============================] - 0s 578us/step - loss: 27.2345\n",
            "Epoch 98/100\n",
            "240/240 [==============================] - 0s 565us/step - loss: 27.1929\n",
            "Epoch 99/100\n",
            "240/240 [==============================] - 0s 623us/step - loss: 26.7075\n",
            "Epoch 100/100\n",
            "240/240 [==============================] - 0s 583us/step - loss: 26.3713\n"
          ],
          "name": "stdout"
        },
        {
          "output_type": "execute_result",
          "data": {
            "text/plain": [
              "<tensorflow.python.keras.callbacks.History at 0x7f1457a65b38>"
            ]
          },
          "metadata": {
            "tags": []
          },
          "execution_count": 10
        }
      ]
    },
    {
      "cell_type": "markdown",
      "metadata": {
        "id": "oGqzlTxNka0a"
      },
      "source": [
        "# Predicting the result of the test set"
      ]
    },
    {
      "cell_type": "code",
      "metadata": {
        "id": "O52r_lI6kSz3",
        "outputId": "4b6edbae-a846-483b-b094-846b314b4452",
        "colab": {
          "base_uri": "https://localhost:8080/",
          "height": 136
        }
      },
      "source": [
        "y_pred = ann.predict(X_test)\n",
        "np.set_printoptions(precision=2)\n",
        "print(np.concatenate((y_pred.reshape(len(y_pred), 1), y_test.reshape(len(y_test), 1)), 1))"
      ],
      "execution_count": 13,
      "outputs": [
        {
          "output_type": "stream",
          "text": [
            "[[431.61 431.23]\n",
            " [462.75 460.01]\n",
            " [466.26 461.14]\n",
            " ...\n",
            " [473.53 473.26]\n",
            " [440.22 438.  ]\n",
            " [459.5  463.28]]\n"
          ],
          "name": "stdout"
        }
      ]
    }
  ]
}